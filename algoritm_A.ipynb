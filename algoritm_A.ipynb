{
 "cells": [
  {
   "cell_type": "code",
   "execution_count": 1,
   "id": "c0e9ae8f",
   "metadata": {},
   "outputs": [
    {
     "name": "stdout",
     "output_type": "stream",
     "text": [
      "Escoja una de las siguientes opciones:\n",
      "1.Conocer el estado inicial\n",
      "2.Los sucesores de un estado\n",
      "3.Averiguar si cierto estado es el estado objetivo\n",
      "4.Conocer el coste de avance de un estado a otro.\n",
      "5.Estimar el costo de recorrido de un estado al estado objetivo\n",
      "6.Salir\n"
     ]
    },
    {
     "name": "stdin",
     "output_type": "stream",
     "text": [
      ">> \n"
     ]
    },
    {
     "name": "stdout",
     "output_type": "stream",
     "text": [
      "Opción invalida, intentelo otra vez.\n",
      "Escoja una de las siguientes opciones:\n",
      "1.Conocer el estado inicial\n",
      "2.Los sucesores de un estado\n",
      "3.Averiguar si cierto estado es el estado objetivo\n",
      "4.Conocer el coste de avance de un estado a otro.\n",
      "5.Estimar el costo de recorrido de un estado al estado objetivo\n",
      "6.Salir\n"
     ]
    },
    {
     "ename": "KeyboardInterrupt",
     "evalue": "Interrupted by user",
     "output_type": "error",
     "traceback": [
      "\u001b[1;31m---------------------------------------------------------------------------\u001b[0m",
      "\u001b[1;31mKeyboardInterrupt\u001b[0m                         Traceback (most recent call last)",
      "Cell \u001b[1;32mIn[1], line 92\u001b[0m\n\u001b[0;32m     90\u001b[0m     definicion_estados()\n\u001b[0;32m     91\u001b[0m     menu()\n\u001b[1;32m---> 92\u001b[0m \u001b[43mmain\u001b[49m\u001b[43m(\u001b[49m\u001b[43m)\u001b[49m\n",
      "Cell \u001b[1;32mIn[1], line 91\u001b[0m, in \u001b[0;36mmain\u001b[1;34m()\u001b[0m\n\u001b[0;32m     89\u001b[0m \u001b[38;5;28;01mdef\u001b[39;00m \u001b[38;5;21mmain\u001b[39m():\n\u001b[0;32m     90\u001b[0m     definicion_estados()\n\u001b[1;32m---> 91\u001b[0m     \u001b[43mmenu\u001b[49m\u001b[43m(\u001b[49m\u001b[43m)\u001b[49m\n",
      "Cell \u001b[1;32mIn[1], line 87\u001b[0m, in \u001b[0;36mmenu\u001b[1;34m()\u001b[0m\n\u001b[0;32m     85\u001b[0m \u001b[38;5;28;01melse\u001b[39;00m:\n\u001b[0;32m     86\u001b[0m     \u001b[38;5;28mprint\u001b[39m(\u001b[38;5;124m'\u001b[39m\u001b[38;5;124mOpción invalida, intentelo otra vez.\u001b[39m\u001b[38;5;124m'\u001b[39m)\n\u001b[1;32m---> 87\u001b[0m \u001b[43mmenu\u001b[49m\u001b[43m(\u001b[49m\u001b[43m)\u001b[49m\n",
      "Cell \u001b[1;32mIn[1], line 66\u001b[0m, in \u001b[0;36mmenu\u001b[1;34m()\u001b[0m\n\u001b[0;32m     64\u001b[0m \u001b[38;5;28mprint\u001b[39m(\u001b[38;5;124m'\u001b[39m\u001b[38;5;124m5.Estimar el costo de recorrido de un estado al estado objetivo\u001b[39m\u001b[38;5;124m'\u001b[39m)\n\u001b[0;32m     65\u001b[0m \u001b[38;5;28mprint\u001b[39m(\u001b[38;5;124m'\u001b[39m\u001b[38;5;124m6.Salir\u001b[39m\u001b[38;5;124m'\u001b[39m)\n\u001b[1;32m---> 66\u001b[0m op \u001b[38;5;241m=\u001b[39m \u001b[38;5;28;43minput\u001b[39;49m\u001b[43m(\u001b[49m\u001b[38;5;124;43m'\u001b[39;49m\u001b[38;5;124;43m>>\u001b[39;49m\u001b[38;5;124;43m'\u001b[39;49m\u001b[43m)\u001b[49m\n\u001b[0;32m     67\u001b[0m \u001b[38;5;28;01mif\u001b[39;00m(op \u001b[38;5;241m==\u001b[39m \u001b[38;5;124m'\u001b[39m\u001b[38;5;124m1\u001b[39m\u001b[38;5;124m'\u001b[39m):\n\u001b[0;32m     68\u001b[0m     \u001b[38;5;28mprint\u001b[39m(initial())\n",
      "File \u001b[1;32m~\\AppData\\Roaming\\Python\\Python310\\site-packages\\ipykernel\\kernelbase.py:1202\u001b[0m, in \u001b[0;36mKernel.raw_input\u001b[1;34m(self, prompt)\u001b[0m\n\u001b[0;32m   1200\u001b[0m     msg \u001b[38;5;241m=\u001b[39m \u001b[38;5;124m\"\u001b[39m\u001b[38;5;124mraw_input was called, but this frontend does not support input requests.\u001b[39m\u001b[38;5;124m\"\u001b[39m\n\u001b[0;32m   1201\u001b[0m     \u001b[38;5;28;01mraise\u001b[39;00m StdinNotImplementedError(msg)\n\u001b[1;32m-> 1202\u001b[0m \u001b[38;5;28;01mreturn\u001b[39;00m \u001b[38;5;28;43mself\u001b[39;49m\u001b[38;5;241;43m.\u001b[39;49m\u001b[43m_input_request\u001b[49m\u001b[43m(\u001b[49m\n\u001b[0;32m   1203\u001b[0m \u001b[43m    \u001b[49m\u001b[38;5;28;43mstr\u001b[39;49m\u001b[43m(\u001b[49m\u001b[43mprompt\u001b[49m\u001b[43m)\u001b[49m\u001b[43m,\u001b[49m\n\u001b[0;32m   1204\u001b[0m \u001b[43m    \u001b[49m\u001b[38;5;28;43mself\u001b[39;49m\u001b[38;5;241;43m.\u001b[39;49m\u001b[43m_parent_ident\u001b[49m\u001b[43m[\u001b[49m\u001b[38;5;124;43m\"\u001b[39;49m\u001b[38;5;124;43mshell\u001b[39;49m\u001b[38;5;124;43m\"\u001b[39;49m\u001b[43m]\u001b[49m\u001b[43m,\u001b[49m\n\u001b[0;32m   1205\u001b[0m \u001b[43m    \u001b[49m\u001b[38;5;28;43mself\u001b[39;49m\u001b[38;5;241;43m.\u001b[39;49m\u001b[43mget_parent\u001b[49m\u001b[43m(\u001b[49m\u001b[38;5;124;43m\"\u001b[39;49m\u001b[38;5;124;43mshell\u001b[39;49m\u001b[38;5;124;43m\"\u001b[39;49m\u001b[43m)\u001b[49m\u001b[43m,\u001b[49m\n\u001b[0;32m   1206\u001b[0m \u001b[43m    \u001b[49m\u001b[43mpassword\u001b[49m\u001b[38;5;241;43m=\u001b[39;49m\u001b[38;5;28;43;01mFalse\u001b[39;49;00m\u001b[43m,\u001b[49m\n\u001b[0;32m   1207\u001b[0m \u001b[43m\u001b[49m\u001b[43m)\u001b[49m\n",
      "File \u001b[1;32m~\\AppData\\Roaming\\Python\\Python310\\site-packages\\ipykernel\\kernelbase.py:1245\u001b[0m, in \u001b[0;36mKernel._input_request\u001b[1;34m(self, prompt, ident, parent, password)\u001b[0m\n\u001b[0;32m   1242\u001b[0m \u001b[38;5;28;01mexcept\u001b[39;00m \u001b[38;5;167;01mKeyboardInterrupt\u001b[39;00m:\n\u001b[0;32m   1243\u001b[0m     \u001b[38;5;66;03m# re-raise KeyboardInterrupt, to truncate traceback\u001b[39;00m\n\u001b[0;32m   1244\u001b[0m     msg \u001b[38;5;241m=\u001b[39m \u001b[38;5;124m\"\u001b[39m\u001b[38;5;124mInterrupted by user\u001b[39m\u001b[38;5;124m\"\u001b[39m\n\u001b[1;32m-> 1245\u001b[0m     \u001b[38;5;28;01mraise\u001b[39;00m \u001b[38;5;167;01mKeyboardInterrupt\u001b[39;00m(msg) \u001b[38;5;28;01mfrom\u001b[39;00m \u001b[38;5;28;01mNone\u001b[39;00m\n\u001b[0;32m   1246\u001b[0m \u001b[38;5;28;01mexcept\u001b[39;00m \u001b[38;5;167;01mException\u001b[39;00m:\n\u001b[0;32m   1247\u001b[0m     \u001b[38;5;28mself\u001b[39m\u001b[38;5;241m.\u001b[39mlog\u001b[38;5;241m.\u001b[39mwarning(\u001b[38;5;124m\"\u001b[39m\u001b[38;5;124mInvalid Message:\u001b[39m\u001b[38;5;124m\"\u001b[39m, exc_info\u001b[38;5;241m=\u001b[39m\u001b[38;5;28;01mTrue\u001b[39;00m)\n",
      "\u001b[1;31mKeyboardInterrupt\u001b[0m: Interrupted by user"
     ]
    }
   ],
   "source": [
    "sucesores = 0\n",
    "estados = 0\n",
    "\n",
    "def definicion_estados():\n",
    "    global sucesores\n",
    "    global estados\n",
    "    sucesores = {'S':[['A',3],['D',4]],\n",
    "                 'A':[['S',3],['D',5],['B',4]],\n",
    "                 'B':[['E',5],['C',4],['A',4]],\n",
    "                 'C': [['B',4]],\n",
    "                 'D': [['A',5],['S',4],['E',2]],\n",
    "                 'E': [['B',5],['D',2],['F',4]],\n",
    "                 'F': [['E',4],['G',3]],\n",
    "                 'G':[['F',3]]}\n",
    "    estados = [list(sucesores.keys()), [11,10.4,6.7,4.0,8.9,6.9,3.0,0.0]]\n",
    "def initial():\n",
    "    return 'S'\n",
    "def actionResults(estado):\n",
    "    estado = estado.upper()\n",
    "    secuencia_sucesores = []\n",
    "    try:\n",
    "        for sucesor in sucesores[estado]:\n",
    "            secuencia_sucesores.append(sucesor[0])\n",
    "    except KeyError:\n",
    "        print(estado,\"no es un estado valido\")\n",
    "    return secuencia_sucesores\n",
    "\n",
    "def isGoal(estado):\n",
    "    estado = estado.upper()\n",
    "    if not(estado in sucesores.keys()): print(estado, 'no es un estado valido')\n",
    "    if(estado == 'G'): return True\n",
    "    else: return False\n",
    "\n",
    "def actionCost(e1,e2):\n",
    "    e1 = e1.upper()\n",
    "    e2 = e2.upper()\n",
    "    costo = 0\n",
    "    encontrado = False\n",
    "    try:\n",
    "        sucesores_e1 = sucesores[e1]\n",
    "        sucesores[e2]\n",
    "        for sucesor in sucesores_e1:\n",
    "            if (sucesor[0] == e2):\n",
    "                costo = sucesor[1]\n",
    "                encontrado = True\n",
    "                break\n",
    "        if not(encontrado): print(e2, \"no es sucesor de\", e1)\n",
    "    except ValueError:\n",
    "        print(e1, \"o\", e2, \"no es un estado valido\")\n",
    "    return costo\n",
    "def heuristicCost(estado):\n",
    "    try:\n",
    "        estado = estado.upper()\n",
    "        return estados[1][estados[0].index(estado)]\n",
    "    except ValueError:\n",
    "        print(estado, \"no es un estado valido\")\n",
    "        return 0\n",
    "def menu():\n",
    "    print('Escoja una de las siguientes opciones:')\n",
    "    print('1.Conocer el estado inicial')\n",
    "    print('2.Los sucesores de un estado')\n",
    "    print('3.Averiguar si cierto estado es el estado objetivo')\n",
    "    print('4.Conocer el coste de avance de un estado a otro.')\n",
    "    print('5.Estimar el costo de recorrido de un estado al estado objetivo')\n",
    "    print('6.Salir')\n",
    "    op = input('>>')\n",
    "    if(op == '1'):\n",
    "        print(initial())\n",
    "    elif(op == '2'):\n",
    "        e = input('Indique el estado del cual desea conocer sus sucesores: ')\n",
    "        print(actionResults(e))\n",
    "    elif(op == '3'):\n",
    "        e = input('Indique el estado que desea analizar: ')\n",
    "        print(isGoal(e))\n",
    "    elif(op == '4'):\n",
    "        e1 = input('Indique el estado del cual parte: ')\n",
    "        e2 = input('Indique el estado al cual desea llegar: ')\n",
    "        print(actionCost(e1,e2))\n",
    "    elif(op == '5'):\n",
    "        e = input('Indique el estado del cual parte: ')\n",
    "        print(\"El costo de ir desde\", e.upper(), \"hasta el estado objetivo puede ser de: \", heuristicCost(e))\n",
    "    elif(op == '6'):\n",
    "        print('Hasta pronto')\n",
    "        exit()\n",
    "    else:\n",
    "        print('Opción invalida, intentelo otra vez.')\n",
    "    menu()\n",
    "\n",
    "def main():\n",
    "    definicion_estados()\n",
    "    menu()\n",
    "main()"
   ]
  },
  {
   "cell_type": "markdown",
   "id": "7f4d853a",
   "metadata": {},
   "source": [
    "Escoja una de las siguientes opciones:\n",
    "1.Conocer el estado inicial\n",
    "2.Los sucesores de un estado\n",
    "3.Averiguar si cierto estado es el estado objetivo\n",
    "4.Conocer el coste de avance de un estado a otro.\n",
    "5.Estimar el costo de recorrido de un estado al estado objetivo\n",
    "6.Salir"
   ]
  },
  {
   "cell_type": "markdown",
   "id": "af5454d8",
   "metadata": {},
   "source": [
    "##"
   ]
  }
 ],
 "metadata": {
  "kernelspec": {
   "display_name": "Python 3 (ipykernel)",
   "language": "python",
   "name": "python3"
  },
  "language_info": {
   "codemirror_mode": {
    "name": "ipython",
    "version": 3
   },
   "file_extension": ".py",
   "mimetype": "text/x-python",
   "name": "python",
   "nbconvert_exporter": "python",
   "pygments_lexer": "ipython3",
   "version": "3.10.4"
  }
 },
 "nbformat": 4,
 "nbformat_minor": 5
}
