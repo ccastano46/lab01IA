{
 "cells": [
  {
   "cell_type": "code",
   "execution_count": 7,
   "id": "8178cd25-a386-44c5-af67-78436cfd6ab4",
   "metadata": {},
   "outputs": [
    {
     "name": "stdout",
     "output_type": "stream",
     "text": [
      "Escoja una de las siguientes opciones:\n",
      "1.Conocer el estado inicial\n",
      "2.Los sucesores de un estado\n",
      "3.Saber si un estado es el terminal\n",
      "3.Averiguar que jugador esta jugando en cierto estado\n",
      "4.Conocer cual es mi rival\n",
      "5.Estimar el heuristico\n",
      "6.Salir\n"
     ]
    },
    {
     "name": "stdin",
     "output_type": "stream",
     "text": [
      ">> 1\n"
     ]
    },
    {
     "name": "stdout",
     "output_type": "stream",
     "text": [
      "E1\n",
      "Escoja una de las siguientes opciones:\n",
      "1.Conocer el estado inicial\n",
      "2.Los sucesores de un estado\n",
      "3.Saber si un estado es el terminal\n",
      "3.Averiguar que jugador esta jugando en cierto estado\n",
      "4.Conocer cual es mi rival\n",
      "5.Estimar el heuristico\n",
      "6.Salir\n"
     ]
    },
    {
     "name": "stdin",
     "output_type": "stream",
     "text": [
      ">> e12\n"
     ]
    },
    {
     "name": "stdout",
     "output_type": "stream",
     "text": [
      "Opción invalida, intentelo otra vez.\n",
      "Escoja una de las siguientes opciones:\n",
      "1.Conocer el estado inicial\n",
      "2.Los sucesores de un estado\n",
      "3.Saber si un estado es el terminal\n",
      "3.Averiguar que jugador esta jugando en cierto estado\n",
      "4.Conocer cual es mi rival\n",
      "5.Estimar el heuristico\n",
      "6.Salir\n"
     ]
    },
    {
     "name": "stdin",
     "output_type": "stream",
     "text": [
      ">> 2\n",
      "Indique el estado del cual desea conocer sus sucesores:  e12\n"
     ]
    },
    {
     "name": "stdout",
     "output_type": "stream",
     "text": [
      "['E113', 'E114']\n",
      "Escoja una de las siguientes opciones:\n",
      "1.Conocer el estado inicial\n",
      "2.Los sucesores de un estado\n",
      "3.Saber si un estado es el terminal\n",
      "3.Averiguar que jugador esta jugando en cierto estado\n",
      "4.Conocer cual es mi rival\n",
      "5.Estimar el heuristico\n",
      "6.Salir\n"
     ]
    },
    {
     "name": "stdin",
     "output_type": "stream",
     "text": [
      ">> 4\n",
      "Indique el estado:  e11\n"
     ]
    },
    {
     "name": "stdout",
     "output_type": "stream",
     "text": [
      "MIN\n",
      "Escoja una de las siguientes opciones:\n",
      "1.Conocer el estado inicial\n",
      "2.Los sucesores de un estado\n",
      "3.Saber si un estado es el terminal\n",
      "3.Averiguar que jugador esta jugando en cierto estado\n",
      "4.Conocer cual es mi rival\n",
      "5.Estimar el heuristico\n",
      "6.Salir\n"
     ]
    },
    {
     "name": "stdin",
     "output_type": "stream",
     "text": [
      ">> 7\n"
     ]
    },
    {
     "name": "stdout",
     "output_type": "stream",
     "text": [
      "Hasta pronto\n",
      "Escoja una de las siguientes opciones:\n",
      "1.Conocer el estado inicial\n",
      "2.Los sucesores de un estado\n",
      "3.Saber si un estado es el terminal\n",
      "3.Averiguar que jugador esta jugando en cierto estado\n",
      "4.Conocer cual es mi rival\n",
      "5.Estimar el heuristico\n",
      "6.Salir\n"
     ]
    },
    {
     "ename": "KeyboardInterrupt",
     "evalue": "Interrupted by user",
     "output_type": "error",
     "traceback": [
      "\u001b[1;31m---------------------------------------------------------------------------\u001b[0m",
      "\u001b[1;31mKeyboardInterrupt\u001b[0m                         Traceback (most recent call last)",
      "Cell \u001b[1;32mIn[7], line 122\u001b[0m\n\u001b[0;32m    120\u001b[0m     definicion_estados()\n\u001b[0;32m    121\u001b[0m     menu()\n\u001b[1;32m--> 122\u001b[0m \u001b[43mmain\u001b[49m\u001b[43m(\u001b[49m\u001b[43m)\u001b[49m\n\u001b[0;32m    126\u001b[0m \u001b[38;5;124;03m\"\"\"\u001b[39;00m\n\u001b[0;32m    127\u001b[0m \u001b[38;5;124;03mdef alphaBetaDecision(TState, number_d):\u001b[39;00m\n\u001b[0;32m    128\u001b[0m \u001b[38;5;124;03m    listOfActions = actionResults(TState)\u001b[39;00m\n\u001b[1;32m   (...)\u001b[0m\n\u001b[0;32m    155\u001b[0m \u001b[38;5;124;03m    \u001b[39;00m\n\u001b[0;32m    156\u001b[0m \u001b[38;5;124;03m\"\"\"\u001b[39;00m\n",
      "Cell \u001b[1;32mIn[7], line 121\u001b[0m, in \u001b[0;36mmain\u001b[1;34m()\u001b[0m\n\u001b[0;32m    119\u001b[0m \u001b[38;5;28;01mdef\u001b[39;00m \u001b[38;5;21mmain\u001b[39m():\n\u001b[0;32m    120\u001b[0m     definicion_estados()\n\u001b[1;32m--> 121\u001b[0m     \u001b[43mmenu\u001b[49m\u001b[43m(\u001b[49m\u001b[43m)\u001b[49m\n",
      "Cell \u001b[1;32mIn[7], line 117\u001b[0m, in \u001b[0;36mmenu\u001b[1;34m()\u001b[0m\n\u001b[0;32m    115\u001b[0m \u001b[38;5;28;01melse\u001b[39;00m:\n\u001b[0;32m    116\u001b[0m     \u001b[38;5;28mprint\u001b[39m(\u001b[38;5;124m'\u001b[39m\u001b[38;5;124mOpción invalida, intentelo otra vez.\u001b[39m\u001b[38;5;124m'\u001b[39m)\n\u001b[1;32m--> 117\u001b[0m \u001b[43mmenu\u001b[49m\u001b[43m(\u001b[49m\u001b[43m)\u001b[49m\n",
      "Cell \u001b[1;32mIn[7], line 117\u001b[0m, in \u001b[0;36mmenu\u001b[1;34m()\u001b[0m\n\u001b[0;32m    115\u001b[0m \u001b[38;5;28;01melse\u001b[39;00m:\n\u001b[0;32m    116\u001b[0m     \u001b[38;5;28mprint\u001b[39m(\u001b[38;5;124m'\u001b[39m\u001b[38;5;124mOpción invalida, intentelo otra vez.\u001b[39m\u001b[38;5;124m'\u001b[39m)\n\u001b[1;32m--> 117\u001b[0m \u001b[43mmenu\u001b[49m\u001b[43m(\u001b[49m\u001b[43m)\u001b[49m\n",
      "    \u001b[1;31m[... skipping similar frames: menu at line 117 (2 times)]\u001b[0m\n",
      "Cell \u001b[1;32mIn[7], line 117\u001b[0m, in \u001b[0;36mmenu\u001b[1;34m()\u001b[0m\n\u001b[0;32m    115\u001b[0m \u001b[38;5;28;01melse\u001b[39;00m:\n\u001b[0;32m    116\u001b[0m     \u001b[38;5;28mprint\u001b[39m(\u001b[38;5;124m'\u001b[39m\u001b[38;5;124mOpción invalida, intentelo otra vez.\u001b[39m\u001b[38;5;124m'\u001b[39m)\n\u001b[1;32m--> 117\u001b[0m \u001b[43mmenu\u001b[49m\u001b[43m(\u001b[49m\u001b[43m)\u001b[49m\n",
      "Cell \u001b[1;32mIn[7], line 94\u001b[0m, in \u001b[0;36mmenu\u001b[1;34m()\u001b[0m\n\u001b[0;32m     92\u001b[0m \u001b[38;5;28mprint\u001b[39m(\u001b[38;5;124m'\u001b[39m\u001b[38;5;124m5.Estimar el heuristico\u001b[39m\u001b[38;5;124m'\u001b[39m)\n\u001b[0;32m     93\u001b[0m \u001b[38;5;28mprint\u001b[39m(\u001b[38;5;124m'\u001b[39m\u001b[38;5;124m6.Salir\u001b[39m\u001b[38;5;124m'\u001b[39m)\n\u001b[1;32m---> 94\u001b[0m op \u001b[38;5;241m=\u001b[39m \u001b[38;5;28;43minput\u001b[39;49m\u001b[43m(\u001b[49m\u001b[38;5;124;43m'\u001b[39;49m\u001b[38;5;124;43m>>\u001b[39;49m\u001b[38;5;124;43m'\u001b[39;49m\u001b[43m)\u001b[49m\n\u001b[0;32m     95\u001b[0m \u001b[38;5;28;01mif\u001b[39;00m(op \u001b[38;5;241m==\u001b[39m \u001b[38;5;124m'\u001b[39m\u001b[38;5;124m1\u001b[39m\u001b[38;5;124m'\u001b[39m):\n\u001b[0;32m     96\u001b[0m     \u001b[38;5;28mprint\u001b[39m(initial())\n",
      "File \u001b[1;32m~\\AppData\\Roaming\\Python\\Python310\\site-packages\\ipykernel\\kernelbase.py:1202\u001b[0m, in \u001b[0;36mKernel.raw_input\u001b[1;34m(self, prompt)\u001b[0m\n\u001b[0;32m   1200\u001b[0m     msg \u001b[38;5;241m=\u001b[39m \u001b[38;5;124m\"\u001b[39m\u001b[38;5;124mraw_input was called, but this frontend does not support input requests.\u001b[39m\u001b[38;5;124m\"\u001b[39m\n\u001b[0;32m   1201\u001b[0m     \u001b[38;5;28;01mraise\u001b[39;00m StdinNotImplementedError(msg)\n\u001b[1;32m-> 1202\u001b[0m \u001b[38;5;28;01mreturn\u001b[39;00m \u001b[38;5;28;43mself\u001b[39;49m\u001b[38;5;241;43m.\u001b[39;49m\u001b[43m_input_request\u001b[49m\u001b[43m(\u001b[49m\n\u001b[0;32m   1203\u001b[0m \u001b[43m    \u001b[49m\u001b[38;5;28;43mstr\u001b[39;49m\u001b[43m(\u001b[49m\u001b[43mprompt\u001b[49m\u001b[43m)\u001b[49m\u001b[43m,\u001b[49m\n\u001b[0;32m   1204\u001b[0m \u001b[43m    \u001b[49m\u001b[38;5;28;43mself\u001b[39;49m\u001b[38;5;241;43m.\u001b[39;49m\u001b[43m_parent_ident\u001b[49m\u001b[43m[\u001b[49m\u001b[38;5;124;43m\"\u001b[39;49m\u001b[38;5;124;43mshell\u001b[39;49m\u001b[38;5;124;43m\"\u001b[39;49m\u001b[43m]\u001b[49m\u001b[43m,\u001b[49m\n\u001b[0;32m   1205\u001b[0m \u001b[43m    \u001b[49m\u001b[38;5;28;43mself\u001b[39;49m\u001b[38;5;241;43m.\u001b[39;49m\u001b[43mget_parent\u001b[49m\u001b[43m(\u001b[49m\u001b[38;5;124;43m\"\u001b[39;49m\u001b[38;5;124;43mshell\u001b[39;49m\u001b[38;5;124;43m\"\u001b[39;49m\u001b[43m)\u001b[49m\u001b[43m,\u001b[49m\n\u001b[0;32m   1206\u001b[0m \u001b[43m    \u001b[49m\u001b[43mpassword\u001b[49m\u001b[38;5;241;43m=\u001b[39;49m\u001b[38;5;28;43;01mFalse\u001b[39;49;00m\u001b[43m,\u001b[49m\n\u001b[0;32m   1207\u001b[0m \u001b[43m\u001b[49m\u001b[43m)\u001b[49m\n",
      "File \u001b[1;32m~\\AppData\\Roaming\\Python\\Python310\\site-packages\\ipykernel\\kernelbase.py:1245\u001b[0m, in \u001b[0;36mKernel._input_request\u001b[1;34m(self, prompt, ident, parent, password)\u001b[0m\n\u001b[0;32m   1242\u001b[0m \u001b[38;5;28;01mexcept\u001b[39;00m \u001b[38;5;167;01mKeyboardInterrupt\u001b[39;00m:\n\u001b[0;32m   1243\u001b[0m     \u001b[38;5;66;03m# re-raise KeyboardInterrupt, to truncate traceback\u001b[39;00m\n\u001b[0;32m   1244\u001b[0m     msg \u001b[38;5;241m=\u001b[39m \u001b[38;5;124m\"\u001b[39m\u001b[38;5;124mInterrupted by user\u001b[39m\u001b[38;5;124m\"\u001b[39m\n\u001b[1;32m-> 1245\u001b[0m     \u001b[38;5;28;01mraise\u001b[39;00m \u001b[38;5;167;01mKeyboardInterrupt\u001b[39;00m(msg) \u001b[38;5;28;01mfrom\u001b[39;00m \u001b[38;5;28;01mNone\u001b[39;00m\n\u001b[0;32m   1246\u001b[0m \u001b[38;5;28;01mexcept\u001b[39;00m \u001b[38;5;167;01mException\u001b[39;00m:\n\u001b[0;32m   1247\u001b[0m     \u001b[38;5;28mself\u001b[39m\u001b[38;5;241m.\u001b[39mlog\u001b[38;5;241m.\u001b[39mwarning(\u001b[38;5;124m\"\u001b[39m\u001b[38;5;124mInvalid Message:\u001b[39m\u001b[38;5;124m\"\u001b[39m, exc_info\u001b[38;5;241m=\u001b[39m\u001b[38;5;28;01mTrue\u001b[39;00m)\n",
      "\u001b[1;31mKeyboardInterrupt\u001b[0m: Interrupted by user"
     ]
    }
   ],
   "source": [
    "import math\n",
    "def definicion_estados():\n",
    "    global sucesores\n",
    "    global estados\n",
    "    sucesores = {'E1':[['E11',[math.inf, 3]],['E12',[3,6]],['E13',[6,6]]],\n",
    "                 'E11':[['E111',[5, math.inf]],['E112',[3,5]]],\n",
    "                 'E12':[['E113',[6, math.inf]],['E114',[3,6]]],\n",
    "                 'E13':[['E115',[6, math.inf]]],\n",
    "                 'E111':[['E1111',[math.inf, 5]],['E1112',[5,4]]],\n",
    "                 'E112':[['E1113',[math.inf, 3]]],\n",
    "                 'E113':[['E1114',[3, 6]],['E1115',[6,6]]],\n",
    "                 'E114':[['E1116',[3, 6]]],\n",
    "                 'E115':[['E1117',[3, 6]]],\n",
    "                 'E1111':[['E11111',[5]],['E1112',[6]]],\n",
    "                 'E1112':[['E11113',[7]],['E1113',[4]]],\n",
    "                 'E1113':[['E11115',[3]]],\n",
    "                 'E1114':[['E11116',[6]]],\n",
    "                 'E1115':[['E11117',[6]]],\n",
    "                 'E1116':[['E11118',[7]]],\n",
    "                 'E1117':[['E11119',[5]]]}\n",
    "    heuristico = {'E1':[6, math.inf],\n",
    "                 'E11':[math.inf, 3],\n",
    "                 'E12':[3,6],\n",
    "                 'E13':[6,6],\n",
    "                 'E111':[5, math.inf],\n",
    "                 'E112':[3,5],\n",
    "                 'E113':[6, math.inf],\n",
    "                 'E114':[3,6],\n",
    "                 'E115':[6, math.inf],\n",
    "                 'E1111':[math.inf, 5],\n",
    "                 'E1112':[5,4],\n",
    "                 'E1113':[math.inf, 3],\n",
    "                 'E1114':[3, 6],\n",
    "                 'E1115':[6,6],\n",
    "                 'E1116':[3, 6],\n",
    "                 'E1117':[3, 6],\n",
    "                 'E11111':[5],\n",
    "                 'E1112':[6],\n",
    "                 'E11113':[7],\n",
    "                 'E1113':[4],\n",
    "                 'E11115':[3],\n",
    "                 'E11116':[6],\n",
    "                 'E11117':[6],\n",
    "                 'E11118':[7],\n",
    "                 'E11119':[5]}\n",
    "    \n",
    "    \n",
    "def initial():\n",
    "    return 'E1'\n",
    "    \n",
    "def actionResults(estado):\n",
    "    estado = estado.upper()\n",
    "    secuencia_sucesores = []\n",
    "    try:\n",
    "        for sucesor in sucesores[estado]:\n",
    "            secuencia_sucesores.append(sucesor[0])\n",
    "    except KeyError:\n",
    "        print(estado,\"no es un estado valido\")\n",
    "    return secuencia_sucesores\n",
    "    \n",
    "def isTerminal():\n",
    "    return False\n",
    "def player(TState):\n",
    "    player = \"MAX\" if(len(Tstate)%2 != 0) else \"MIN\"\n",
    "    return player\n",
    "    \n",
    "def rival(TPlayer):\n",
    "    TPlayer.upper()\n",
    "    player = \"MAX\" if(TPlayer == \"MAX\") else \"MIN\"\n",
    "    return player\n",
    "\n",
    "def heuristicEval(TState):\n",
    "    try:\n",
    "        estado = estado.upper()\n",
    "        return heuristico[Tstate]\n",
    "    except ValueError:\n",
    "        print(estado, \"no es un estado valido\")\n",
    "        return 0\n",
    "\n",
    "\n",
    "\n",
    "def menu():\n",
    "    sucesores = 0\n",
    "    heuristico = 0\n",
    "    definicion_estados()\n",
    "    print('Escoja una de las siguientes opciones:')\n",
    "    print('1.Conocer el estado inicial')\n",
    "    print('2.Los sucesores de un estado')\n",
    "    print('3.Saber si un estado es el terminal')\n",
    "    print('4.Averiguar que jugador esta jugando en cierto estado')\n",
    "    print('5.Conocer cual es mi rival')\n",
    "    print('6.Estimar el heuristico')\n",
    "    print('7.Salir')\n",
    "    op = input('>>')\n",
    "    if(op == '1'):\n",
    "        print(initial())\n",
    "    elif(op == '2'):\n",
    "        e = input('Indique el estado del cual desea conocer sus sucesores: ')\n",
    "        print(actionResults(e))\n",
    "    elif(op == '3'):\n",
    "        e = input('Indique el estado que desea analizar: ')\n",
    "        print(isTerminal(e))\n",
    "    elif(op == '4'):\n",
    "        e1 = input('Indique el estado: ')\n",
    "        print(rival(e1))\n",
    "    elif(op == '5'):\n",
    "        e1 = input('Indique que jugador es usted: ')\n",
    "        print(rival(e1))\n",
    "    elif(op == '6'):\n",
    "        e = input('Indique el estado: ')\n",
    "        print(heuristicEval)\n",
    "    elif(op == '7'):\n",
    "        print('Hasta pronto')\n",
    "        exit()\n",
    "    else:\n",
    "        print('Opción invalida, intentelo otra vez.')\n",
    "    menu()\n",
    "\n",
    "def main():\n",
    "    definicion_estados()\n",
    "    menu()\n",
    "main()\n",
    "\n",
    "\n",
    "\n",
    "\"\"\"\n",
    "def alphaBetaDecision(TState, number_d):\n",
    "    listOfActions = actionResults(TState)\n",
    "    number = minValue(TState, number_d-1,number_alpha = inf.neg, number_beta = inf.pos)    \n",
    "    return listOfActions[number]\n",
    "\n",
    "\n",
    "def minValue(TState, number_d, number_alpha, number_beta):\n",
    "    if(number_d < 0) return 0\n",
    "    listOfActions = actionResults(TState)\n",
    "    StateMin = 0\n",
    "    for i in listOfActions:\n",
    "        StateMax = min if StateMin < i else i\n",
    "\n",
    "    number_beta = StateMin\n",
    "    maxValue(TState, number_d-1, number_alpha, number_beta)\n",
    "    return StateMin\n",
    "    \n",
    "    \n",
    "def maxValue(TState, number_d, number_alpha, number_beta):\n",
    "    if(number_d < 0) return 0\n",
    "    listOfActions = actionResults(TState)\n",
    "    StateMax = 0\n",
    "    for i in listOfActions:\n",
    "        StateMin = min if StateMax > i else i\n",
    "\n",
    "    number_alpha = StateMax\n",
    "    maxValue(TState, number_d-1, number_alpha, number_beta)\n",
    "    return StateMax\n",
    "    \n",
    "\"\"\"\n",
    "    \n",
    "    "
   ]
  },
  {
   "cell_type": "code",
   "execution_count": null,
   "id": "033e7590-9900-46a4-9be7-bd60a92adbe2",
   "metadata": {},
   "outputs": [],
   "source": []
  }
 ],
 "metadata": {
  "kernelspec": {
   "display_name": "Python 3 (ipykernel)",
   "language": "python",
   "name": "python3"
  },
  "language_info": {
   "codemirror_mode": {
    "name": "ipython",
    "version": 3
   },
   "file_extension": ".py",
   "mimetype": "text/x-python",
   "name": "python",
   "nbconvert_exporter": "python",
   "pygments_lexer": "ipython3",
   "version": "3.10.4"
  }
 },
 "nbformat": 4,
 "nbformat_minor": 5
}
