{
 "cells": [
  {
   "cell_type": "code",
   "execution_count": null,
   "id": "8178cd25-a386-44c5-af67-78436cfd6ab4",
   "metadata": {},
   "outputs": [],
   "source": [
    "def initial():\n",
    "    return \"\"\n",
    "\n",
    "def actionResults(TState):\n",
    "    return \"Set State\"\n",
    "    \n",
    "def isGoal():\n",
    "    return true\n",
    "    \n",
    "def actionCost(TState_1, TState_2):\n",
    "    return 1\n",
    "    \n",
    "def heuristicCost(TState):\n",
    "    return 1\n",
    "\n",
    "\n",
    "\n",
    "\n",
    "\n",
    "def alphaBetaDecision(TState, number_d):\n",
    "    listOfActions = actionResults(TState)\n",
    "    number = minValue(TState, number_d-1,number_alpha = inf.neg, number_beta = inf.pos)    \n",
    "    return listOfActions[number]\n",
    "\n",
    "\n",
    "def minValue(TState, number_d, number_alpha, number_beta):\n",
    "    if(number_d < 0) return 0\n",
    "    listOfActions = actionResults(TState)\n",
    "    StateMin = 0\n",
    "    for i in listOfActions:\n",
    "        StateMax = min if StateMin < i else i\n",
    "\n",
    "    number_beta = StateMin\n",
    "    maxValue(TState, number_d-1, number_alpha, number_beta)\n",
    "    return StateMin\n",
    "    \n",
    "    \n",
    "def maxValue(TState, number_d, number_alpha, number_beta):\n",
    "    if(number_d < 0) return 0\n",
    "    listOfActions = actionResults(TState)\n",
    "    StateMax = 0\n",
    "    for i in listOfActions:\n",
    "        StateMin = min if StateMax > i else i\n",
    "\n",
    "    number_alpha = StateMax\n",
    "    maxValue(TState, number_d-1, number_alpha, number_beta)\n",
    "    return StateMax\n",
    "    \n",
    "\n",
    "    \n",
    "    "
   ]
  }
 ],
 "metadata": {
  "kernelspec": {
   "display_name": "Python 3 (ipykernel)",
   "language": "python",
   "name": "python3"
  },
  "language_info": {
   "codemirror_mode": {
    "name": "ipython",
    "version": 3
   },
   "file_extension": ".py",
   "mimetype": "text/x-python",
   "name": "python",
   "nbconvert_exporter": "python",
   "pygments_lexer": "ipython3",
   "version": "3.10.4"
  }
 },
 "nbformat": 4,
 "nbformat_minor": 5
}
