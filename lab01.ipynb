{
 "cells": [
  {
   "cell_type": "code",
   "execution_count": 91,
   "id": "96f2f46a-057c-4370-95fc-e0d8f309b412",
   "metadata": {},
   "outputs": [],
   "source": [
    "sucesores = 0\n",
    "estados = 0\n",
    "costos = 0\n",
    "\n",
    "def definicion_estados():\n",
    "    global sucesores\n",
    "    global estados\n",
    "    global costos\n",
    "    sucesores = {'S':[['A',3],['D',4]],\n",
    "                 'A':[['S',3],['D',5],['B',4]],\n",
    "                 'B':[['E',5],['C',4],['A',4]],\n",
    "                 'C': [['B',4]],\n",
    "                 'D': [['A',5],['S',4],['E',2]],\n",
    "                 'E': [['B',5],['D',2],['F',4]],\n",
    "                 'F': [['E',4],['G',3]],\n",
    "                 'G':[['F',3]]}\n",
    "    estados = [list(sucesores.keys()), [11,10.4,6.7,4.0,8.9,6.9,3.0,0.0]]\n",
    "    costos = {\n",
    "        ('A','B') : 4,\n",
    "        ('A','C') : 8,\n",
    "        ('A', 'D') : 5,\n",
    "        ('A', 'E') : 7,\n",
    "        ('A','F') : 11,\n",
    "        ('A','G') : 14,\n",
    "        ('A', 'S') : 3,\n",
    "        ('B','C') : 4,\n",
    "        ('B', 'D') : 7,\n",
    "        ('B', 'E') : 5,\n",
    "        ('B','F') : 9,\n",
    "        ('B','G') : 12,\n",
    "        ('B', 'S') : 7,\n",
    "        ('C', 'D') : 11,\n",
    "        ('C', 'E') : 9,\n",
    "        ('C','F') : 13,\n",
    "        ('C','G') : 16,\n",
    "        ('C', 'S') : 11,\n",
    "        ('D', 'E') : 2,\n",
    "        ('D','F') : 6,\n",
    "        ('D','G') : 9,\n",
    "        ('D', 'S') : 4,\n",
    "        ('E','F') : 4,\n",
    "        ('E','G') : 7,\n",
    "        ('E', 'S') : 6,\n",
    "        ('F','G') : 3,\n",
    "        ('F', 'S') : 10,\n",
    "        ('G', 'S') : 13\n",
    "    }"
   ]
  },
  {
   "cell_type": "code",
   "execution_count": 92,
   "id": "ed8faf46-d58b-4704-95ae-51ad1b90be9b",
   "metadata": {},
   "outputs": [],
   "source": [
    "def initial():\n",
    "    return 'S'"
   ]
  },
  {
   "cell_type": "code",
   "execution_count": 93,
   "id": "fd5d2f69-3d64-41a5-95ac-ba88888b7298",
   "metadata": {},
   "outputs": [],
   "source": [
    "def actionResults(estado):\n",
    "    estado = estado.upper()\n",
    "    secuencia_sucesores = []\n",
    "    try:\n",
    "        for sucesor in sucesores[estado]:\n",
    "            secuencia_sucesores.append(sucesor[0])\n",
    "    except KeyError:\n",
    "        print(estado,\"no es un estado valido\")\n",
    "    return secuencia_sucesores"
   ]
  },
  {
   "cell_type": "code",
   "execution_count": 94,
   "id": "2d719fdf-50f0-4445-ab89-2347c0d25e2c",
   "metadata": {},
   "outputs": [],
   "source": [
    "def isGoal(estado):\n",
    "    estado = estado.upper()\n",
    "    if not(estado in sucesores.keys()): print(estado, 'no es un estado valido')\n",
    "    if(estado == 'G'): return True\n",
    "    else: return False"
   ]
  },
  {
   "cell_type": "code",
   "execution_count": 95,
   "id": "0cde8507-6025-417d-a370-9286d00b5e5e",
   "metadata": {},
   "outputs": [],
   "source": [
    "def actionCost(e1,e2):\n",
    "    e1 = e1.upper()\n",
    "    e2 = e2.upper()\n",
    "    costo = 0\n",
    "    encontrado = False\n",
    "    try:\n",
    "        if (e1 in sucesores.keys() and e2 in sucesores.keys()): \n",
    "            costo = costos[(e1,e2)] \n",
    "        else: \n",
    "            print('Alguno de los estados ingresados no es valido')\n",
    "    except KeyError:\n",
    "        costo = costos[(e2,e1)]\n",
    "    return costo"
   ]
  },
  {
   "cell_type": "code",
   "execution_count": 96,
   "id": "8537eed8-7caa-4f04-9214-15a6b996c29c",
   "metadata": {},
   "outputs": [],
   "source": [
    "def heuristicCost(estado):\n",
    "    try:\n",
    "        estado = estado.upper()\n",
    "        return estados[1][estados[0].index(estado)]\n",
    "    except ValueError:\n",
    "        print(estado, \"no es un estado valido\")\n",
    "        return 0"
   ]
  },
  {
   "cell_type": "code",
   "execution_count": 97,
   "id": "af5aabf3-beca-4de9-b840-41ca12115b41",
   "metadata": {},
   "outputs": [],
   "source": [
    "def menu():\n",
    "    print('Escoja una de las siguientes opciones:')\n",
    "    print('1.Conocer el estado inicial')\n",
    "    print('2.Los sucesores de un estado')\n",
    "    print('3.Averiguar si cierto estado es el estado objetivo')\n",
    "    print('4.Conocer el coste de avance de un estado a otro.')\n",
    "    print('5.Estimar el costo de recorrido de un estado al estado objetivo')\n",
    "    print('6.Finalizar')\n",
    "    op = input('>>')\n",
    "    if(op == '1'):\n",
    "        print(initial())\n",
    "    elif(op == '2'):\n",
    "        e = input('Indique el estado del cual desea conocer sus sucesores: ')\n",
    "        print(actionResults(e))\n",
    "    elif(op == '3'):\n",
    "        e = input('Indique el estado que desea analizar: ')\n",
    "        print(isGoal(e))\n",
    "    elif(op == '4'):\n",
    "        e1 = input('Indique el estado del cual parte: ')\n",
    "        e2 = input('Indique el estado al cual desea llegar: ')\n",
    "        print(\"El costo de ir desde\", e1.upper(), \"hasta\", e2.upper(), \"es:\",actionCost(e1,e2))\n",
    "    elif(op == '5'):\n",
    "        e = input('Indique el estado del cual parte: ')\n",
    "        print(\"El costo de ir desde\", e.upper(), \"hasta el estado objetivo puede ser de: \", heuristicCost(e))\n",
    "    elif(op == '6'):\n",
    "        print('Hasta pronto')\n",
    "        return\n",
    "    else:\n",
    "        print('Opción invalida, intentelo otra vez.')\n",
    "    menu()"
   ]
  },
  {
   "cell_type": "code",
   "execution_count": 98,
   "id": "43d0542b-ad6f-4157-aaed-a16659d798ab",
   "metadata": {},
   "outputs": [],
   "source": [
    "def main():\n",
    "    definicion_estados()\n",
    "    menu()"
   ]
  },
  {
   "cell_type": "code",
   "execution_count": 99,
   "id": "1e82f8a5-84c4-4942-a3ce-ecc537a5fa9e",
   "metadata": {},
   "outputs": [
    {
     "name": "stdout",
     "output_type": "stream",
     "text": [
      "Escoja una de las siguientes opciones:\n",
      "1.Conocer el estado inicial\n",
      "2.Los sucesores de un estado\n",
      "3.Averiguar si cierto estado es el estado objetivo\n",
      "4.Conocer el coste de avance de un estado a otro.\n",
      "5.Estimar el costo de recorrido de un estado al estado objetivo\n",
      "6.Finalizar\n"
     ]
    },
    {
     "name": "stdin",
     "output_type": "stream",
     "text": [
      ">> 4\n",
      "Indique el estado del cual parte:  t\n",
      "Indique el estado al cual desea llegar:  a\n"
     ]
    },
    {
     "name": "stdout",
     "output_type": "stream",
     "text": [
      "Alguno de los estados ingresados no es valido\n",
      "El costo de ir desde T hasta A es: 0\n",
      "Escoja una de las siguientes opciones:\n",
      "1.Conocer el estado inicial\n",
      "2.Los sucesores de un estado\n",
      "3.Averiguar si cierto estado es el estado objetivo\n",
      "4.Conocer el coste de avance de un estado a otro.\n",
      "5.Estimar el costo de recorrido de un estado al estado objetivo\n",
      "6.Finalizar\n"
     ]
    },
    {
     "name": "stdin",
     "output_type": "stream",
     "text": [
      ">> 4\n",
      "Indique el estado del cual parte:  B\n",
      "Indique el estado al cual desea llegar:  S\n"
     ]
    },
    {
     "name": "stdout",
     "output_type": "stream",
     "text": [
      "El costo de ir desde B hasta S es: 7\n",
      "Escoja una de las siguientes opciones:\n",
      "1.Conocer el estado inicial\n",
      "2.Los sucesores de un estado\n",
      "3.Averiguar si cierto estado es el estado objetivo\n",
      "4.Conocer el coste de avance de un estado a otro.\n",
      "5.Estimar el costo de recorrido de un estado al estado objetivo\n",
      "6.Finalizar\n"
     ]
    },
    {
     "name": "stdin",
     "output_type": "stream",
     "text": [
      ">> 4\n",
      "Indique el estado del cual parte:  s\n",
      "Indique el estado al cual desea llegar:  G\n"
     ]
    },
    {
     "name": "stdout",
     "output_type": "stream",
     "text": [
      "El costo de ir desde S hasta G es: 13\n",
      "Escoja una de las siguientes opciones:\n",
      "1.Conocer el estado inicial\n",
      "2.Los sucesores de un estado\n",
      "3.Averiguar si cierto estado es el estado objetivo\n",
      "4.Conocer el coste de avance de un estado a otro.\n",
      "5.Estimar el costo de recorrido de un estado al estado objetivo\n",
      "6.Finalizar\n"
     ]
    },
    {
     "name": "stdin",
     "output_type": "stream",
     "text": [
      ">> 5\n",
      "Indique el estado del cual parte:  s\n"
     ]
    },
    {
     "name": "stdout",
     "output_type": "stream",
     "text": [
      "El costo de ir desde S hasta el estado objetivo puede ser de:  11\n",
      "Escoja una de las siguientes opciones:\n",
      "1.Conocer el estado inicial\n",
      "2.Los sucesores de un estado\n",
      "3.Averiguar si cierto estado es el estado objetivo\n",
      "4.Conocer el coste de avance de un estado a otro.\n",
      "5.Estimar el costo de recorrido de un estado al estado objetivo\n",
      "6.Finalizar\n"
     ]
    },
    {
     "name": "stdin",
     "output_type": "stream",
     "text": [
      ">> 5\n",
      "Indique el estado del cual parte:  d\n"
     ]
    },
    {
     "name": "stdout",
     "output_type": "stream",
     "text": [
      "El costo de ir desde D hasta el estado objetivo puede ser de:  8.9\n",
      "Escoja una de las siguientes opciones:\n",
      "1.Conocer el estado inicial\n",
      "2.Los sucesores de un estado\n",
      "3.Averiguar si cierto estado es el estado objetivo\n",
      "4.Conocer el coste de avance de un estado a otro.\n",
      "5.Estimar el costo de recorrido de un estado al estado objetivo\n",
      "6.Finalizar\n"
     ]
    },
    {
     "name": "stdin",
     "output_type": "stream",
     "text": [
      ">> 5\n",
      "Indique el estado del cual parte:  g\n"
     ]
    },
    {
     "name": "stdout",
     "output_type": "stream",
     "text": [
      "El costo de ir desde G hasta el estado objetivo puede ser de:  0.0\n",
      "Escoja una de las siguientes opciones:\n",
      "1.Conocer el estado inicial\n",
      "2.Los sucesores de un estado\n",
      "3.Averiguar si cierto estado es el estado objetivo\n",
      "4.Conocer el coste de avance de un estado a otro.\n",
      "5.Estimar el costo de recorrido de un estado al estado objetivo\n",
      "6.Finalizar\n"
     ]
    },
    {
     "name": "stdin",
     "output_type": "stream",
     "text": [
      ">> 6\n"
     ]
    },
    {
     "name": "stdout",
     "output_type": "stream",
     "text": [
      "Hasta pronto\n"
     ]
    }
   ],
   "source": [
    "main()"
   ]
  },
  {
   "cell_type": "code",
   "execution_count": null,
   "id": "4bdd3899-702e-4f31-9ff6-30f25e82f6f2",
   "metadata": {},
   "outputs": [],
   "source": []
  }
 ],
 "metadata": {
  "kernelspec": {
   "display_name": "Python 3 (ipykernel)",
   "language": "python",
   "name": "python3"
  },
  "language_info": {
   "codemirror_mode": {
    "name": "ipython",
    "version": 3
   },
   "file_extension": ".py",
   "mimetype": "text/x-python",
   "name": "python",
   "nbconvert_exporter": "python",
   "pygments_lexer": "ipython3",
   "version": "3.11.5"
  }
 },
 "nbformat": 4,
 "nbformat_minor": 5
}
